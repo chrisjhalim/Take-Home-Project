{
 "cells": [
  {
   "cell_type": "code",
   "execution_count": 3,
   "id": "30cddcaf",
   "metadata": {},
   "outputs": [],
   "source": [
    "import pandas as pd\n",
    "import numpy as np\n",
    "from sklearn import preprocessing\n",
    "import matplotlib.pyplot as plt \n",
    "plt.rc(\"font\", size=14)\n",
    "from sklearn.linear_model import LogisticRegression\n",
    "from sklearn import metrics\n",
    "from sklearn.model_selection import train_test_split\n",
    "from sklearn.ensemble import RandomForestClassifier\n",
    "import seaborn as sns\n",
    "sns.set(style=\"white\")\n",
    "sns.set(style=\"whitegrid\", color_codes=True)"
   ]
  },
  {
   "cell_type": "code",
   "execution_count": 4,
   "id": "ca9dc0b5",
   "metadata": {
    "scrolled": true
   },
   "outputs": [
    {
     "name": "stdout",
     "output_type": "stream",
     "text": [
      "(94000, 31)\n",
      "['A1', 'A2', 'A3', 'A4', 'A5', 'A6', 'A7', 'A8', 'A9', 'A10', 'A11', 'A12', 'A13', 'A14', 'A15', 'A16', 'A17', 'A18', 'A19', 'A20', 'A21', 'A22', 'A23', 'A24', 'A25', 'A26', 'A27', 'A28', 'A29', 'A30', 'default']\n"
     ]
    }
   ],
   "source": [
    "data = pd.read_csv(\"/Users/christopherhalim888/Downloads/Data Science HW design model.csv\")\n",
    "print(data.shape)\n",
    "print(list(data.columns))"
   ]
  },
  {
   "cell_type": "markdown",
   "id": "aa59f467",
   "metadata": {},
   "source": [
    "## Check for missing data\n"
   ]
  },
  {
   "cell_type": "code",
   "execution_count": 5,
   "id": "ffbf138f",
   "metadata": {},
   "outputs": [
    {
     "name": "stdout",
     "output_type": "stream",
     "text": [
      "A1 - 0%\n",
      "A2 - 0%\n",
      "A3 - 0%\n",
      "A4 - 0%\n",
      "A5 - 0%\n",
      "A6 - 0%\n",
      "A7 - 0%\n",
      "A8 - 0%\n",
      "A9 - 0%\n",
      "A10 - 0%\n",
      "A11 - 0%\n",
      "A12 - 0%\n",
      "A13 - 0%\n",
      "A14 - 0%\n",
      "A15 - 0%\n",
      "A16 - 0%\n",
      "A17 - 0%\n",
      "A18 - 0%\n",
      "A19 - 0%\n",
      "A20 - 0%\n",
      "A21 - 0%\n",
      "A22 - 0%\n",
      "A23 - 0%\n",
      "A24 - 0%\n",
      "A25 - 0%\n",
      "A26 - 0%\n",
      "A27 - 0%\n",
      "A28 - 0%\n",
      "A29 - 0%\n",
      "A30 - 0%\n",
      "default - 0%\n"
     ]
    }
   ],
   "source": [
    "for col in data.columns:\n",
    "    pct_missing = np.mean(data[col].isnull())\n",
    "    print('{} - {}%'.format(col, round(pct_missing*100)))"
   ]
  },
  {
   "cell_type": "code",
   "execution_count": 6,
   "id": "c741743d",
   "metadata": {},
   "outputs": [
    {
     "name": "stdout",
     "output_type": "stream",
     "text": [
      "A1         float64\n",
      "A2         float64\n",
      "A3         float64\n",
      "A4         float64\n",
      "A5         float64\n",
      "A6         float64\n",
      "A7         float64\n",
      "A8         float64\n",
      "A9         float64\n",
      "A10        float64\n",
      "A11        float64\n",
      "A12        float64\n",
      "A13        float64\n",
      "A14        float64\n",
      "A15        float64\n",
      "A16        float64\n",
      "A17        float64\n",
      "A18        float64\n",
      "A19        float64\n",
      "A20        float64\n",
      "A21          int64\n",
      "A22        float64\n",
      "A23        float64\n",
      "A24        float64\n",
      "A25        float64\n",
      "A26        float64\n",
      "A27        float64\n",
      "A28        float64\n",
      "A29        float64\n",
      "A30        float64\n",
      "default      int64\n",
      "dtype: object\n"
     ]
    }
   ],
   "source": [
    "print(data.dtypes)"
   ]
  },
  {
   "cell_type": "markdown",
   "id": "6120c96e",
   "metadata": {},
   "source": [
    "### Convert All Non-Default Columns to Float for Consistency"
   ]
  },
  {
   "cell_type": "code",
   "execution_count": 7,
   "id": "230215fb",
   "metadata": {},
   "outputs": [
    {
     "name": "stdout",
     "output_type": "stream",
     "text": [
      "A1         float64\n",
      "A2         float64\n",
      "A3         float64\n",
      "A4         float64\n",
      "A5         float64\n",
      "A6         float64\n",
      "A7         float64\n",
      "A8         float64\n",
      "A9         float64\n",
      "A10        float64\n",
      "A11        float64\n",
      "A12        float64\n",
      "A13        float64\n",
      "A14        float64\n",
      "A15        float64\n",
      "A16        float64\n",
      "A17        float64\n",
      "A18        float64\n",
      "A19        float64\n",
      "A20        float64\n",
      "A21        float32\n",
      "A22        float64\n",
      "A23        float64\n",
      "A24        float64\n",
      "A25        float64\n",
      "A26        float64\n",
      "A27        float64\n",
      "A28        float64\n",
      "A29        float64\n",
      "A30        float64\n",
      "default      int64\n",
      "dtype: object\n"
     ]
    }
   ],
   "source": [
    "data['A21'] = pd.to_numeric(data['A21'], downcast='float')\n",
    "print(data.dtypes)"
   ]
  },
  {
   "cell_type": "code",
   "execution_count": 8,
   "id": "32f1c2ad",
   "metadata": {},
   "outputs": [
    {
     "data": {
      "text/html": [
       "<div>\n",
       "<style scoped>\n",
       "    .dataframe tbody tr th:only-of-type {\n",
       "        vertical-align: middle;\n",
       "    }\n",
       "\n",
       "    .dataframe tbody tr th {\n",
       "        vertical-align: top;\n",
       "    }\n",
       "\n",
       "    .dataframe thead th {\n",
       "        text-align: right;\n",
       "    }\n",
       "</style>\n",
       "<table border=\"1\" class=\"dataframe\">\n",
       "  <thead>\n",
       "    <tr style=\"text-align: right;\">\n",
       "      <th></th>\n",
       "      <th>A1</th>\n",
       "      <th>A2</th>\n",
       "      <th>A3</th>\n",
       "      <th>A4</th>\n",
       "      <th>A5</th>\n",
       "      <th>A6</th>\n",
       "      <th>A7</th>\n",
       "      <th>A8</th>\n",
       "      <th>A9</th>\n",
       "      <th>A10</th>\n",
       "      <th>...</th>\n",
       "      <th>A22</th>\n",
       "      <th>A23</th>\n",
       "      <th>A24</th>\n",
       "      <th>A25</th>\n",
       "      <th>A26</th>\n",
       "      <th>A27</th>\n",
       "      <th>A28</th>\n",
       "      <th>A29</th>\n",
       "      <th>A30</th>\n",
       "      <th>default</th>\n",
       "    </tr>\n",
       "  </thead>\n",
       "  <tbody>\n",
       "    <tr>\n",
       "      <th>0</th>\n",
       "      <td>10.69</td>\n",
       "      <td>86.10</td>\n",
       "      <td>8920.16</td>\n",
       "      <td>19912.85</td>\n",
       "      <td>30.42</td>\n",
       "      <td>31.72</td>\n",
       "      <td>1.18</td>\n",
       "      <td>145.41</td>\n",
       "      <td>2.236</td>\n",
       "      <td>1.786</td>\n",
       "      <td>...</td>\n",
       "      <td>0.01</td>\n",
       "      <td>0.01</td>\n",
       "      <td>0.01</td>\n",
       "      <td>0.13</td>\n",
       "      <td>0.00</td>\n",
       "      <td>0.00</td>\n",
       "      <td>0.00</td>\n",
       "      <td>0.00</td>\n",
       "      <td>0.00</td>\n",
       "      <td>0</td>\n",
       "    </tr>\n",
       "    <tr>\n",
       "      <th>1</th>\n",
       "      <td>28.50</td>\n",
       "      <td>65.19</td>\n",
       "      <td>6564.00</td>\n",
       "      <td>6716.67</td>\n",
       "      <td>32.50</td>\n",
       "      <td>23.40</td>\n",
       "      <td>2.74</td>\n",
       "      <td>91.11</td>\n",
       "      <td>1.000</td>\n",
       "      <td>1.000</td>\n",
       "      <td>...</td>\n",
       "      <td>0.06</td>\n",
       "      <td>0.01</td>\n",
       "      <td>0.00</td>\n",
       "      <td>0.09</td>\n",
       "      <td>285.80</td>\n",
       "      <td>0.00</td>\n",
       "      <td>16.44</td>\n",
       "      <td>1.98</td>\n",
       "      <td>42.26</td>\n",
       "      <td>0</td>\n",
       "    </tr>\n",
       "    <tr>\n",
       "      <th>2</th>\n",
       "      <td>24.87</td>\n",
       "      <td>73.79</td>\n",
       "      <td>4285.47</td>\n",
       "      <td>6463.75</td>\n",
       "      <td>40.50</td>\n",
       "      <td>51.53</td>\n",
       "      <td>2.84</td>\n",
       "      <td>93.90</td>\n",
       "      <td>2.400</td>\n",
       "      <td>1.400</td>\n",
       "      <td>...</td>\n",
       "      <td>0.08</td>\n",
       "      <td>0.02</td>\n",
       "      <td>0.02</td>\n",
       "      <td>0.44</td>\n",
       "      <td>494.62</td>\n",
       "      <td>135.41</td>\n",
       "      <td>127.45</td>\n",
       "      <td>46.00</td>\n",
       "      <td>14.92</td>\n",
       "      <td>0</td>\n",
       "    </tr>\n",
       "    <tr>\n",
       "      <th>3</th>\n",
       "      <td>13.64</td>\n",
       "      <td>85.82</td>\n",
       "      <td>6887.56</td>\n",
       "      <td>9244.44</td>\n",
       "      <td>49.56</td>\n",
       "      <td>53.44</td>\n",
       "      <td>0.36</td>\n",
       "      <td>171.45</td>\n",
       "      <td>1.875</td>\n",
       "      <td>2.167</td>\n",
       "      <td>...</td>\n",
       "      <td>0.03</td>\n",
       "      <td>0.01</td>\n",
       "      <td>0.00</td>\n",
       "      <td>0.05</td>\n",
       "      <td>1015.19</td>\n",
       "      <td>0.00</td>\n",
       "      <td>210.63</td>\n",
       "      <td>92.58</td>\n",
       "      <td>0.00</td>\n",
       "      <td>0</td>\n",
       "    </tr>\n",
       "    <tr>\n",
       "      <th>4</th>\n",
       "      <td>4.50</td>\n",
       "      <td>95.92</td>\n",
       "      <td>8746.50</td>\n",
       "      <td>19987.50</td>\n",
       "      <td>32.75</td>\n",
       "      <td>37.88</td>\n",
       "      <td>0.92</td>\n",
       "      <td>153.25</td>\n",
       "      <td>2.000</td>\n",
       "      <td>1.500</td>\n",
       "      <td>...</td>\n",
       "      <td>0.01</td>\n",
       "      <td>0.00</td>\n",
       "      <td>0.00</td>\n",
       "      <td>0.04</td>\n",
       "      <td>0.00</td>\n",
       "      <td>106.41</td>\n",
       "      <td>79.00</td>\n",
       "      <td>0.00</td>\n",
       "      <td>0.00</td>\n",
       "      <td>0</td>\n",
       "    </tr>\n",
       "    <tr>\n",
       "      <th>...</th>\n",
       "      <td>...</td>\n",
       "      <td>...</td>\n",
       "      <td>...</td>\n",
       "      <td>...</td>\n",
       "      <td>...</td>\n",
       "      <td>...</td>\n",
       "      <td>...</td>\n",
       "      <td>...</td>\n",
       "      <td>...</td>\n",
       "      <td>...</td>\n",
       "      <td>...</td>\n",
       "      <td>...</td>\n",
       "      <td>...</td>\n",
       "      <td>...</td>\n",
       "      <td>...</td>\n",
       "      <td>...</td>\n",
       "      <td>...</td>\n",
       "      <td>...</td>\n",
       "      <td>...</td>\n",
       "      <td>...</td>\n",
       "      <td>...</td>\n",
       "    </tr>\n",
       "    <tr>\n",
       "      <th>93995</th>\n",
       "      <td>8.18</td>\n",
       "      <td>92.55</td>\n",
       "      <td>4305.29</td>\n",
       "      <td>5420.00</td>\n",
       "      <td>30.60</td>\n",
       "      <td>34.43</td>\n",
       "      <td>0.73</td>\n",
       "      <td>76.67</td>\n",
       "      <td>0.000</td>\n",
       "      <td>0.000</td>\n",
       "      <td>...</td>\n",
       "      <td>0.20</td>\n",
       "      <td>0.04</td>\n",
       "      <td>0.04</td>\n",
       "      <td>0.04</td>\n",
       "      <td>0.00</td>\n",
       "      <td>0.00</td>\n",
       "      <td>0.00</td>\n",
       "      <td>0.00</td>\n",
       "      <td>0.00</td>\n",
       "      <td>1</td>\n",
       "    </tr>\n",
       "    <tr>\n",
       "      <th>93996</th>\n",
       "      <td>13.22</td>\n",
       "      <td>84.14</td>\n",
       "      <td>7614.67</td>\n",
       "      <td>14460.69</td>\n",
       "      <td>32.74</td>\n",
       "      <td>34.75</td>\n",
       "      <td>1.85</td>\n",
       "      <td>117.22</td>\n",
       "      <td>2.287</td>\n",
       "      <td>1.852</td>\n",
       "      <td>...</td>\n",
       "      <td>0.07</td>\n",
       "      <td>0.01</td>\n",
       "      <td>0.01</td>\n",
       "      <td>0.28</td>\n",
       "      <td>221.97</td>\n",
       "      <td>0.00</td>\n",
       "      <td>9.93</td>\n",
       "      <td>15.87</td>\n",
       "      <td>63.74</td>\n",
       "      <td>1</td>\n",
       "    </tr>\n",
       "    <tr>\n",
       "      <th>93997</th>\n",
       "      <td>14.91</td>\n",
       "      <td>85.36</td>\n",
       "      <td>4628.71</td>\n",
       "      <td>6070.00</td>\n",
       "      <td>31.30</td>\n",
       "      <td>39.43</td>\n",
       "      <td>2.09</td>\n",
       "      <td>135.70</td>\n",
       "      <td>3.000</td>\n",
       "      <td>2.000</td>\n",
       "      <td>...</td>\n",
       "      <td>0.44</td>\n",
       "      <td>0.06</td>\n",
       "      <td>0.04</td>\n",
       "      <td>0.23</td>\n",
       "      <td>468.81</td>\n",
       "      <td>265.85</td>\n",
       "      <td>44.89</td>\n",
       "      <td>12.76</td>\n",
       "      <td>52.39</td>\n",
       "      <td>1</td>\n",
       "    </tr>\n",
       "    <tr>\n",
       "      <th>93998</th>\n",
       "      <td>10.77</td>\n",
       "      <td>85.94</td>\n",
       "      <td>8540.43</td>\n",
       "      <td>19452.79</td>\n",
       "      <td>29.92</td>\n",
       "      <td>30.77</td>\n",
       "      <td>1.24</td>\n",
       "      <td>147.39</td>\n",
       "      <td>2.013</td>\n",
       "      <td>1.392</td>\n",
       "      <td>...</td>\n",
       "      <td>0.13</td>\n",
       "      <td>0.01</td>\n",
       "      <td>0.02</td>\n",
       "      <td>0.10</td>\n",
       "      <td>83.90</td>\n",
       "      <td>1034.35</td>\n",
       "      <td>281.25</td>\n",
       "      <td>53.10</td>\n",
       "      <td>0.00</td>\n",
       "      <td>1</td>\n",
       "    </tr>\n",
       "    <tr>\n",
       "      <th>93999</th>\n",
       "      <td>23.47</td>\n",
       "      <td>78.27</td>\n",
       "      <td>3672.42</td>\n",
       "      <td>5800.87</td>\n",
       "      <td>42.67</td>\n",
       "      <td>44.00</td>\n",
       "      <td>2.42</td>\n",
       "      <td>78.69</td>\n",
       "      <td>0.833</td>\n",
       "      <td>0.833</td>\n",
       "      <td>...</td>\n",
       "      <td>0.09</td>\n",
       "      <td>0.02</td>\n",
       "      <td>0.02</td>\n",
       "      <td>0.39</td>\n",
       "      <td>126.60</td>\n",
       "      <td>70.28</td>\n",
       "      <td>5.41</td>\n",
       "      <td>8.80</td>\n",
       "      <td>50.24</td>\n",
       "      <td>1</td>\n",
       "    </tr>\n",
       "  </tbody>\n",
       "</table>\n",
       "<p>94000 rows × 31 columns</p>\n",
       "</div>"
      ],
      "text/plain": [
       "          A1     A2       A3        A4     A5     A6    A7      A8     A9  \\\n",
       "0      10.69  86.10  8920.16  19912.85  30.42  31.72  1.18  145.41  2.236   \n",
       "1      28.50  65.19  6564.00   6716.67  32.50  23.40  2.74   91.11  1.000   \n",
       "2      24.87  73.79  4285.47   6463.75  40.50  51.53  2.84   93.90  2.400   \n",
       "3      13.64  85.82  6887.56   9244.44  49.56  53.44  0.36  171.45  1.875   \n",
       "4       4.50  95.92  8746.50  19987.50  32.75  37.88  0.92  153.25  2.000   \n",
       "...      ...    ...      ...       ...    ...    ...   ...     ...    ...   \n",
       "93995   8.18  92.55  4305.29   5420.00  30.60  34.43  0.73   76.67  0.000   \n",
       "93996  13.22  84.14  7614.67  14460.69  32.74  34.75  1.85  117.22  2.287   \n",
       "93997  14.91  85.36  4628.71   6070.00  31.30  39.43  2.09  135.70  3.000   \n",
       "93998  10.77  85.94  8540.43  19452.79  29.92  30.77  1.24  147.39  2.013   \n",
       "93999  23.47  78.27  3672.42   5800.87  42.67  44.00  2.42   78.69  0.833   \n",
       "\n",
       "         A10  ...   A22   A23   A24   A25      A26      A27     A28    A29  \\\n",
       "0      1.786  ...  0.01  0.01  0.01  0.13     0.00     0.00    0.00   0.00   \n",
       "1      1.000  ...  0.06  0.01  0.00  0.09   285.80     0.00   16.44   1.98   \n",
       "2      1.400  ...  0.08  0.02  0.02  0.44   494.62   135.41  127.45  46.00   \n",
       "3      2.167  ...  0.03  0.01  0.00  0.05  1015.19     0.00  210.63  92.58   \n",
       "4      1.500  ...  0.01  0.00  0.00  0.04     0.00   106.41   79.00   0.00   \n",
       "...      ...  ...   ...   ...   ...   ...      ...      ...     ...    ...   \n",
       "93995  0.000  ...  0.20  0.04  0.04  0.04     0.00     0.00    0.00   0.00   \n",
       "93996  1.852  ...  0.07  0.01  0.01  0.28   221.97     0.00    9.93  15.87   \n",
       "93997  2.000  ...  0.44  0.06  0.04  0.23   468.81   265.85   44.89  12.76   \n",
       "93998  1.392  ...  0.13  0.01  0.02  0.10    83.90  1034.35  281.25  53.10   \n",
       "93999  0.833  ...  0.09  0.02  0.02  0.39   126.60    70.28    5.41   8.80   \n",
       "\n",
       "         A30  default  \n",
       "0       0.00        0  \n",
       "1      42.26        0  \n",
       "2      14.92        0  \n",
       "3       0.00        0  \n",
       "4       0.00        0  \n",
       "...      ...      ...  \n",
       "93995   0.00        1  \n",
       "93996  63.74        1  \n",
       "93997  52.39        1  \n",
       "93998   0.00        1  \n",
       "93999  50.24        1  \n",
       "\n",
       "[94000 rows x 31 columns]"
      ]
     },
     "execution_count": 8,
     "metadata": {},
     "output_type": "execute_result"
    }
   ],
   "source": [
    "data"
   ]
  },
  {
   "cell_type": "markdown",
   "id": "8aaca579",
   "metadata": {},
   "source": [
    "### From above: there are 94,000 records and 31 fields of data"
   ]
  },
  {
   "cell_type": "markdown",
   "id": "96e7cb27",
   "metadata": {},
   "source": [
    "## Data Exploration"
   ]
  },
  {
   "cell_type": "code",
   "execution_count": 9,
   "id": "5bba395e",
   "metadata": {},
   "outputs": [
    {
     "data": {
      "text/plain": [
       "0    90000\n",
       "1     4000\n",
       "Name: default, dtype: int64"
      ]
     },
     "execution_count": 9,
     "metadata": {},
     "output_type": "execute_result"
    }
   ],
   "source": [
    "data['default'].value_counts()"
   ]
  },
  {
   "cell_type": "code",
   "execution_count": 10,
   "id": "682f136b",
   "metadata": {},
   "outputs": [
    {
     "data": {
      "image/png": "[encoded data removed]",
      "text/plain": [
       "<Figure size 432x288 with 1 Axes>"
      ]
     },
     "metadata": {},
     "output_type": "display_data"
    },
    {
     "data": {
      "text/plain": [
       "<Figure size 432x288 with 0 Axes>"
      ]
     },
     "metadata": {},
     "output_type": "display_data"
    }
   ],
   "source": [
    "sns.countplot(x = 'default', data = data, palette = 'hls')\n",
    "plt.show()\n",
    "plt.savefig('count_plot')"
   ]
  },
  {
   "cell_type": "code",
   "execution_count": 11,
   "id": "9b0cf5d4",
   "metadata": {},
   "outputs": [
    {
     "data": {
      "text/html": [
       "<div>\n",
       "<style scoped>\n",
       "    .dataframe tbody tr th:only-of-type {\n",
       "        vertical-align: middle;\n",
       "    }\n",
       "\n",
       "    .dataframe tbody tr th {\n",
       "        vertical-align: top;\n",
       "    }\n",
       "\n",
       "    .dataframe thead th {\n",
       "        text-align: right;\n",
       "    }\n",
       "</style>\n",
       "<table border=\"1\" class=\"dataframe\">\n",
       "  <thead>\n",
       "    <tr style=\"text-align: right;\">\n",
       "      <th></th>\n",
       "      <th>A1</th>\n",
       "      <th>A2</th>\n",
       "      <th>A3</th>\n",
       "      <th>A4</th>\n",
       "      <th>A5</th>\n",
       "      <th>A6</th>\n",
       "      <th>A7</th>\n",
       "      <th>A8</th>\n",
       "      <th>A9</th>\n",
       "      <th>A10</th>\n",
       "      <th>...</th>\n",
       "      <th>A21</th>\n",
       "      <th>A22</th>\n",
       "      <th>A23</th>\n",
       "      <th>A24</th>\n",
       "      <th>A25</th>\n",
       "      <th>A26</th>\n",
       "      <th>A27</th>\n",
       "      <th>A28</th>\n",
       "      <th>A29</th>\n",
       "      <th>A30</th>\n",
       "    </tr>\n",
       "    <tr>\n",
       "      <th>default</th>\n",
       "      <th></th>\n",
       "      <th></th>\n",
       "      <th></th>\n",
       "      <th></th>\n",
       "      <th></th>\n",
       "      <th></th>\n",
       "      <th></th>\n",
       "      <th></th>\n",
       "      <th></th>\n",
       "      <th></th>\n",
       "      <th></th>\n",
       "      <th></th>\n",
       "      <th></th>\n",
       "      <th></th>\n",
       "      <th></th>\n",
       "      <th></th>\n",
       "      <th></th>\n",
       "      <th></th>\n",
       "      <th></th>\n",
       "      <th></th>\n",
       "      <th></th>\n",
       "    </tr>\n",
       "  </thead>\n",
       "  <tbody>\n",
       "    <tr>\n",
       "      <th>0</th>\n",
       "      <td>11.822342</td>\n",
       "      <td>84.230672</td>\n",
       "      <td>7416.424939</td>\n",
       "      <td>13662.168678</td>\n",
       "      <td>33.054178</td>\n",
       "      <td>36.449091</td>\n",
       "      <td>1.482856</td>\n",
       "      <td>125.157854</td>\n",
       "      <td>1.719536</td>\n",
       "      <td>1.42432</td>\n",
       "      <td>...</td>\n",
       "      <td>53.569756</td>\n",
       "      <td>0.073610</td>\n",
       "      <td>0.008519</td>\n",
       "      <td>0.013363</td>\n",
       "      <td>0.133277</td>\n",
       "      <td>293.143264</td>\n",
       "      <td>357.097880</td>\n",
       "      <td>103.820898</td>\n",
       "      <td>28.970002</td>\n",
       "      <td>38.780824</td>\n",
       "    </tr>\n",
       "    <tr>\n",
       "      <th>1</th>\n",
       "      <td>19.151247</td>\n",
       "      <td>75.011378</td>\n",
       "      <td>5141.529590</td>\n",
       "      <td>8664.491615</td>\n",
       "      <td>43.710538</td>\n",
       "      <td>49.003005</td>\n",
       "      <td>2.314202</td>\n",
       "      <td>100.506145</td>\n",
       "      <td>1.209305</td>\n",
       "      <td>1.01907</td>\n",
       "      <td>...</td>\n",
       "      <td>56.797249</td>\n",
       "      <td>0.092977</td>\n",
       "      <td>0.009258</td>\n",
       "      <td>0.017438</td>\n",
       "      <td>0.139242</td>\n",
       "      <td>237.055092</td>\n",
       "      <td>377.744133</td>\n",
       "      <td>95.870160</td>\n",
       "      <td>26.079825</td>\n",
       "      <td>32.414355</td>\n",
       "    </tr>\n",
       "  </tbody>\n",
       "</table>\n",
       "<p>2 rows × 30 columns</p>\n",
       "</div>"
      ],
      "text/plain": [
       "                A1         A2           A3            A4         A5  \\\n",
       "default                                                               \n",
       "0        11.822342  84.230672  7416.424939  13662.168678  33.054178   \n",
       "1        19.151247  75.011378  5141.529590   8664.491615  43.710538   \n",
       "\n",
       "                A6        A7          A8        A9      A10  ...        A21  \\\n",
       "default                                                      ...              \n",
       "0        36.449091  1.482856  125.157854  1.719536  1.42432  ...  53.569756   \n",
       "1        49.003005  2.314202  100.506145  1.209305  1.01907  ...  56.797249   \n",
       "\n",
       "              A22       A23       A24       A25         A26         A27  \\\n",
       "default                                                                   \n",
       "0        0.073610  0.008519  0.013363  0.133277  293.143264  357.097880   \n",
       "1        0.092977  0.009258  0.017438  0.139242  237.055092  377.744133   \n",
       "\n",
       "                A28        A29        A30  \n",
       "default                                    \n",
       "0        103.820898  28.970002  38.780824  \n",
       "1         95.870160  26.079825  32.414355  \n",
       "\n",
       "[2 rows x 30 columns]"
      ]
     },
     "execution_count": 11,
     "metadata": {},
     "output_type": "execute_result"
    }
   ],
   "source": [
    "data.groupby('default').mean()"
   ]
  },
  {
   "cell_type": "markdown",
   "id": "fdfef320",
   "metadata": {},
   "source": [
    "## Train and Test Split"
   ]
  },
  {
   "cell_type": "code",
   "execution_count": 12,
   "id": "a93c5d0c",
   "metadata": {},
   "outputs": [],
   "source": [
    "y = data.default.copy()\n",
    "X = data.drop(['default'], axis = 1)"
   ]
  },
  {
   "cell_type": "code",
   "execution_count": 13,
   "id": "c1457d4c",
   "metadata": {},
   "outputs": [],
   "source": [
    "X_train, X_test, y_train, y_test = train_test_split(X, y, test_size = 0.20, random_state = 1111)"
   ]
  },
  {
   "cell_type": "markdown",
   "id": "c832a3aa",
   "metadata": {},
   "source": [
    "# Model 1: Logistic Regression Model"
   ]
  },
  {
   "cell_type": "code",
   "execution_count": 14,
   "id": "3d93a0b5",
   "metadata": {},
   "outputs": [
    {
     "data": {
      "text/plain": [
       "LogisticRegression(max_iter=10000)"
      ]
     },
     "execution_count": 14,
     "metadata": {},
     "output_type": "execute_result"
    }
   ],
   "source": [
    "model = LogisticRegression(solver = 'lbfgs', max_iter = 10000)\n",
    "model.fit(X_train, y_train)"
   ]
  },
  {
   "cell_type": "code",
   "execution_count": 15,
   "id": "a3b1e81b",
   "metadata": {},
   "outputs": [
    {
     "data": {
      "text/html": [
       "<div>\n",
       "<style scoped>\n",
       "    .dataframe tbody tr th:only-of-type {\n",
       "        vertical-align: middle;\n",
       "    }\n",
       "\n",
       "    .dataframe tbody tr th {\n",
       "        vertical-align: top;\n",
       "    }\n",
       "\n",
       "    .dataframe thead th {\n",
       "        text-align: right;\n",
       "    }\n",
       "</style>\n",
       "<table border=\"1\" class=\"dataframe\">\n",
       "  <thead>\n",
       "    <tr style=\"text-align: right;\">\n",
       "      <th></th>\n",
       "      <th>True</th>\n",
       "      <th>Prediction</th>\n",
       "    </tr>\n",
       "  </thead>\n",
       "  <tbody>\n",
       "    <tr>\n",
       "      <th>0</th>\n",
       "      <td>0</td>\n",
       "      <td>0</td>\n",
       "    </tr>\n",
       "    <tr>\n",
       "      <th>1</th>\n",
       "      <td>0</td>\n",
       "      <td>0</td>\n",
       "    </tr>\n",
       "    <tr>\n",
       "      <th>2</th>\n",
       "      <td>0</td>\n",
       "      <td>0</td>\n",
       "    </tr>\n",
       "    <tr>\n",
       "      <th>3</th>\n",
       "      <td>0</td>\n",
       "      <td>0</td>\n",
       "    </tr>\n",
       "    <tr>\n",
       "      <th>4</th>\n",
       "      <td>0</td>\n",
       "      <td>0</td>\n",
       "    </tr>\n",
       "  </tbody>\n",
       "</table>\n",
       "</div>"
      ],
      "text/plain": [
       "   True  Prediction\n",
       "0     0           0\n",
       "1     0           0\n",
       "2     0           0\n",
       "3     0           0\n",
       "4     0           0"
      ]
     },
     "execution_count": 15,
     "metadata": {},
     "output_type": "execute_result"
    }
   ],
   "source": [
    "y_pred = pd.DataFrame(model.predict(X_test))\n",
    "y_test = y_test.reset_index(drop=True)\n",
    "z = pd.concat([y_test, y_pred], axis=1)\n",
    "z.columns = ['True', 'Prediction']\n",
    "z.head()"
   ]
  },
  {
   "cell_type": "markdown",
   "id": "10a5346c",
   "metadata": {},
   "source": [
    "## Check for Accuracy, Precision, and Recall"
   ]
  },
  {
   "cell_type": "code",
   "execution_count": 16,
   "id": "8bfb078e",
   "metadata": {},
   "outputs": [
    {
     "name": "stdout",
     "output_type": "stream",
     "text": [
      "Accuracy: 0.9563297872340426\n",
      "Precision: 0.3559322033898305\n",
      "Recall: 0.026119402985074626\n"
     ]
    }
   ],
   "source": [
    "print(\"Accuracy:\", metrics.accuracy_score(y_test, y_pred))\n",
    "print(\"Precision:\", metrics.precision_score(y_test, y_pred))\n",
    "print(\"Recall:\", metrics.recall_score(y_test, y_pred))"
   ]
  },
  {
   "cell_type": "markdown",
   "id": "8c827d4e",
   "metadata": {},
   "source": [
    "## Confusion Matrix"
   ]
  },
  {
   "cell_type": "code",
   "execution_count": 19,
   "id": "1994763f",
   "metadata": {
    "scrolled": true
   },
   "outputs": [
    {
     "data": {
      "text/plain": [
       "Text(0.5, 12.5, 'Predicted')"
      ]
     },
     "execution_count": 19,
     "metadata": {},
     "output_type": "execute_result"
    },
    {
     "data": {
      "image/png": "[encoded data removed]",
      "text/plain": [
       "<Figure size 432x288 with 2 Axes>"
      ]
     },
     "metadata": {},
     "output_type": "display_data"
    }
   ],
   "source": [
    "cnf_matrix = metrics.confusion_matrix(y_test, y_pred)\n",
    "\n",
    "labels = [0, 1]\n",
    "fig, ax = plt.subplots()\n",
    "tick_marks = np.arange(len(labels))\n",
    "plt.xticks(tick_marks, labels)\n",
    "plt.yticks(tick_marks, labels)\n",
    "# create heatmap\n",
    "sns.heatmap(pd.DataFrame(cnf_matrix), annot=True, cmap=\"YlGnBu\", fmt='g')\n",
    "ax.xaxis.set_label_position(\"top\")\n",
    "plt.title('Confusion matrix', y=1.1)\n",
    "plt.ylabel('True')\n",
    "plt.xlabel('Predicted')"
   ]
  },
  {
   "cell_type": "code",
   "execution_count": 20,
   "id": "6ca6470a",
   "metadata": {},
   "outputs": [
    {
     "name": "stdout",
     "output_type": "stream",
     "text": [
      "[[17958    38]\n",
      " [  783    21]]\n"
     ]
    }
   ],
   "source": [
    "from sklearn.metrics import confusion_matrix\n",
    "confusion_matrix = confusion_matrix(y_test, y_pred)\n",
    "print(confusion_matrix)"
   ]
  },
  {
   "cell_type": "markdown",
   "id": "6f4ebfd0",
   "metadata": {},
   "source": [
    "## Classification Report"
   ]
  },
  {
   "cell_type": "code",
   "execution_count": 21,
   "id": "889bbd37",
   "metadata": {},
   "outputs": [
    {
     "name": "stdout",
     "output_type": "stream",
     "text": [
      "              precision    recall  f1-score   support\n",
      "\n",
      "           0       0.96      1.00      0.98     17996\n",
      "           1       0.36      0.03      0.05       804\n",
      "\n",
      "    accuracy                           0.96     18800\n",
      "   macro avg       0.66      0.51      0.51     18800\n",
      "weighted avg       0.93      0.96      0.94     18800\n",
      "\n"
     ]
    }
   ],
   "source": [
    "from sklearn.metrics import classification_report\n",
    "print(classification_report(y_test, y_pred))"
   ]
  },
  {
   "cell_type": "markdown",
   "id": "c797ea6a",
   "metadata": {},
   "source": [
    "## ROC Curve"
   ]
  },
  {
   "cell_type": "code",
   "execution_count": 22,
   "id": "778d161f",
   "metadata": {
    "scrolled": false
   },
   "outputs": [
    {
     "data": {
      "image/png": "[encoded data removed]",
      "text/plain": [
       "<Figure size 432x288 with 1 Axes>"
      ]
     },
     "metadata": {},
     "output_type": "display_data"
    }
   ],
   "source": [
    "from sklearn.metrics import roc_auc_score\n",
    "from sklearn.metrics import roc_curve\n",
    "\n",
    "logit_roc_auc = roc_auc_score(y_test, model.predict(X_test))\n",
    "fpr, tpr, thresholds = roc_curve(y_test, model.predict_proba(X_test)[:,1])\n",
    "plt.figure()\n",
    "plt.plot(fpr, tpr, label='Logistic Regression (area = %0.2f)' % logit_roc_auc)\n",
    "plt.plot([0, 1], [0, 1],'r--')\n",
    "plt.xlim([0.0, 1.0])\n",
    "plt.ylim([0.0, 1.05])\n",
    "plt.xlabel('False Positive Rate')\n",
    "plt.ylabel('True Positive Rate')\n",
    "plt.title('Receiver Operating Characteristic (ROC)')\n",
    "plt.legend(loc=\"lower right\")\n",
    "plt.savefig('Log_ROC')\n",
    "plt.show()"
   ]
  },
  {
   "cell_type": "markdown",
   "id": "a9a96270",
   "metadata": {},
   "source": [
    "### AUC Score"
   ]
  },
  {
   "cell_type": "code",
   "execution_count": 23,
   "id": "7a47f760",
   "metadata": {},
   "outputs": [
    {
     "data": {
      "text/plain": [
       "0.5120039113169428"
      ]
     },
     "execution_count": 23,
     "metadata": {},
     "output_type": "execute_result"
    }
   ],
   "source": [
    "roc_auc_score(y_test, y_pred)"
   ]
  },
  {
   "cell_type": "markdown",
   "id": "1e96a6c7",
   "metadata": {},
   "source": [
    "# Validate Data"
   ]
  },
  {
   "cell_type": "code",
   "execution_count": 24,
   "id": "abc5dc81",
   "metadata": {},
   "outputs": [],
   "source": [
    "val = pd.read_csv(\"/Users/christopherhalim888/Downloads/Data Science HW design val.csv\")"
   ]
  },
  {
   "cell_type": "markdown",
   "id": "3ab0054e",
   "metadata": {},
   "source": [
    "## Data Exploration"
   ]
  },
  {
   "cell_type": "code",
   "execution_count": 26,
   "id": "a734006e",
   "metadata": {},
   "outputs": [
    {
     "data": {
      "text/plain": [
       "0    10000\n",
       "1     1500\n",
       "Name: default, dtype: int64"
      ]
     },
     "execution_count": 26,
     "metadata": {},
     "output_type": "execute_result"
    }
   ],
   "source": [
    "val['default'].value_counts()"
   ]
  },
  {
   "cell_type": "code",
   "execution_count": 27,
   "id": "7d709e8b",
   "metadata": {},
   "outputs": [
    {
     "data": {
      "image/png": "[encoded data removed]",
      "text/plain": [
       "<Figure size 432x288 with 1 Axes>"
      ]
     },
     "metadata": {},
     "output_type": "display_data"
    },
    {
     "data": {
      "text/plain": [
       "<Figure size 432x288 with 0 Axes>"
      ]
     },
     "metadata": {},
     "output_type": "display_data"
    }
   ],
   "source": [
    "sns.countplot(x = 'default', data = val, palette = 'hls')\n",
    "plt.show()\n",
    "plt.savefig('count_plot')"
   ]
  },
  {
   "cell_type": "markdown",
   "id": "8a8b0bb4",
   "metadata": {},
   "source": [
    "## Use the Model for Val Data"
   ]
  },
  {
   "cell_type": "code",
   "execution_count": 28,
   "id": "23be1b6c",
   "metadata": {},
   "outputs": [],
   "source": [
    "y1 = val.default.copy()\n",
    "X1 = val.drop(['default'], axis = 1)"
   ]
  },
  {
   "cell_type": "code",
   "execution_count": 29,
   "id": "0a676072",
   "metadata": {},
   "outputs": [],
   "source": [
    "X1_train, X1_val, y1_train, y1_val = train_test_split(X1, y1, test_size=0.25, random_state=1)"
   ]
  },
  {
   "cell_type": "code",
   "execution_count": 30,
   "id": "ba75ba8b",
   "metadata": {},
   "outputs": [],
   "source": [
    "y1_pred = pd.DataFrame(model.predict(X1_val))\n",
    "y1_val = y1_val.reset_index(drop=True)\n",
    "z = pd.concat([y1_val, y1_pred], axis=1)\n",
    "z.columns = ['True', 'Prediction']"
   ]
  },
  {
   "cell_type": "markdown",
   "id": "0d98bbd7",
   "metadata": {},
   "source": [
    "### Export Prediction to CSV"
   ]
  },
  {
   "cell_type": "code",
   "execution_count": 29,
   "id": "e9ec2d05",
   "metadata": {},
   "outputs": [],
   "source": [
    "path = '/Users/christopherhalim888/OneDrive/Summer 2022 Internship Prep'"
   ]
  },
  {
   "cell_type": "code",
   "execution_count": 30,
   "id": "06fb7e3f",
   "metadata": {},
   "outputs": [],
   "source": [
    "y1_pred.to_csv(path+'results1.csv')"
   ]
  },
  {
   "cell_type": "markdown",
   "id": "9d72ea0f",
   "metadata": {},
   "source": [
    "## Check for Accuracy, Precision, and Recall"
   ]
  },
  {
   "cell_type": "code",
   "execution_count": 31,
   "id": "078de2fd",
   "metadata": {},
   "outputs": [
    {
     "name": "stdout",
     "output_type": "stream",
     "text": [
      "Accuracy: 0.8626086956521739\n",
      "Precision: 0.7333333333333333\n",
      "Recall: 0.02736318407960199\n"
     ]
    }
   ],
   "source": [
    "print(\"Accuracy:\", metrics.accuracy_score(y1_val, y1_pred))\n",
    "print(\"Precision:\", metrics.precision_score(y1_val, y1_pred))\n",
    "print(\"Recall:\", metrics.recall_score(y1_val, y1_pred))"
   ]
  },
  {
   "cell_type": "markdown",
   "id": "70a31f69",
   "metadata": {},
   "source": [
    "## Confusion Matrix"
   ]
  },
  {
   "cell_type": "code",
   "execution_count": 32,
   "id": "d68e7d5c",
   "metadata": {},
   "outputs": [
    {
     "data": {
      "text/plain": [
       "Text(0.5, 12.5, 'Predicted')"
      ]
     },
     "execution_count": 32,
     "metadata": {},
     "output_type": "execute_result"
    },
    {
     "data": {
      "image/png": "[encoded data removed]",
      "text/plain": [
       "<Figure size 432x288 with 2 Axes>"
      ]
     },
     "metadata": {},
     "output_type": "display_data"
    }
   ],
   "source": [
    "cnf_matrix = metrics.confusion_matrix(y1_val, y1_pred)\n",
    "\n",
    "labels = [0, 1]\n",
    "fig, ax = plt.subplots()\n",
    "tick_marks = np.arange(len(labels))\n",
    "plt.xticks(tick_marks, labels)\n",
    "plt.yticks(tick_marks, labels)\n",
    "# create heatmap\n",
    "sns.heatmap(pd.DataFrame(cnf_matrix), annot=True, cmap=\"YlGnBu\", fmt='g')\n",
    "ax.xaxis.set_label_position(\"top\")\n",
    "plt.title('Confusion matrix', y=1.1)\n",
    "plt.ylabel('True')\n",
    "plt.xlabel('Predicted')"
   ]
  },
  {
   "cell_type": "code",
   "execution_count": 33,
   "id": "440e604e",
   "metadata": {},
   "outputs": [
    {
     "name": "stdout",
     "output_type": "stream",
     "text": [
      "[[2469    4]\n",
      " [ 391   11]]\n"
     ]
    }
   ],
   "source": [
    "from sklearn.metrics import confusion_matrix\n",
    "confusion_matrix = confusion_matrix(y1_val, y1_pred)\n",
    "print(confusion_matrix)"
   ]
  },
  {
   "cell_type": "markdown",
   "id": "afe3398c",
   "metadata": {},
   "source": [
    "## Classification Report"
   ]
  },
  {
   "cell_type": "code",
   "execution_count": 34,
   "id": "2037f772",
   "metadata": {},
   "outputs": [
    {
     "name": "stdout",
     "output_type": "stream",
     "text": [
      "              precision    recall  f1-score   support\n",
      "\n",
      "           0       0.86      1.00      0.93      2473\n",
      "           1       0.73      0.03      0.05       402\n",
      "\n",
      "    accuracy                           0.86      2875\n",
      "   macro avg       0.80      0.51      0.49      2875\n",
      "weighted avg       0.85      0.86      0.80      2875\n",
      "\n"
     ]
    }
   ],
   "source": [
    "from sklearn.metrics import classification_report\n",
    "print(classification_report(y1_val, y1_pred))"
   ]
  },
  {
   "cell_type": "markdown",
   "id": "dfe0f65c",
   "metadata": {},
   "source": [
    "## ROC Curve"
   ]
  },
  {
   "cell_type": "code",
   "execution_count": 35,
   "id": "24e82abe",
   "metadata": {},
   "outputs": [
    {
     "data": {
      "image/png": "[encoded data removed]",
      "text/plain": [
       "<Figure size 432x288 with 1 Axes>"
      ]
     },
     "metadata": {},
     "output_type": "display_data"
    }
   ],
   "source": [
    "from sklearn.metrics import roc_auc_score\n",
    "from sklearn.metrics import roc_curve\n",
    "\n",
    "logit_roc_auc = roc_auc_score(y1_val, model.predict(X1_val))\n",
    "fpr, tpr, thresholds = roc_curve(y1_val, model.predict_proba(X1_val)[:,1])\n",
    "plt.figure()\n",
    "plt.plot(fpr, tpr, label='Logistic Regression (area = %0.2f)' % logit_roc_auc)\n",
    "plt.plot([0, 1], [0, 1],'r--')\n",
    "plt.xlim([0.0, 1.0])\n",
    "plt.ylim([0.0, 1.05])\n",
    "plt.xlabel('False Positive Rate')\n",
    "plt.ylabel('True Positive Rate')\n",
    "plt.title('Receiver Operating Characteristic (ROC)')\n",
    "plt.legend(loc=\"lower right\")\n",
    "plt.savefig('Log_ROC')\n",
    "plt.show()"
   ]
  },
  {
   "cell_type": "markdown",
   "id": "2df1591b",
   "metadata": {},
   "source": [
    "### AUC Score"
   ]
  },
  {
   "cell_type": "code",
   "execution_count": 36,
   "id": "36533120",
   "metadata": {},
   "outputs": [
    {
     "data": {
      "text/plain": [
       "0.5128728577090287"
      ]
     },
     "execution_count": 36,
     "metadata": {},
     "output_type": "execute_result"
    }
   ],
   "source": [
    "roc_auc_score(y1_val, y1_pred)"
   ]
  }
 ],
 "metadata": {
  "kernelspec": {
   "display_name": "Python 3",
   "language": "python",
   "name": "python3"
  },
  "language_info": {
   "codemirror_mode": {
    "name": "ipython",
    "version": 3
   },
   "file_extension": ".py",
   "mimetype": "text/x-python",
   "name": "python",
   "nbconvert_exporter": "python",
   "pygments_lexer": "ipython3",
   "version": "3.8.8"
  }
 },
 "nbformat": 4,
 "nbformat_minor": 5
}
